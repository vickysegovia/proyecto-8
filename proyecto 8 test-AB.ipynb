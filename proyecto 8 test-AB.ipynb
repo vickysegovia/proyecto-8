{
 "cells": [
  {
   "cell_type": "markdown",
   "metadata": {},
   "source": [
    "# Contenido.\n",
    "1. [Introducción](#Introducción)\n",
    "2. [Descarga y preparación de datos.](#dp)\n",
    "    - [2.1 Importacion de datos.](#lp)\n",
    "    - [2.1 exploración de datos](#ed)\n",
    "3. [Primera parte.](#1)\n",
    "    - [3.2 Aplicacion de framework.](#af)\n",
    "4. [Segunda parte.](#2)\n",
    "    - [4.1 Análisi de test A/B](#ab)\n",
    "    - [4.2 Ingreso acumulado por grupo.](#iag)\n",
    "    - [4.3 Tamaño de pedido promedio acumulado por grupo](#tma)\n",
    "    - [4.4 Diferencias relativas en el tamaño de pedido promedio acumulado entre los grupos.](#dta) \n",
    "    - [4.5 Tasa de conversión.](#ts)\n",
    "    - [4.6 Diferencia relativa para las tasas de conversión acumuladas.](#dra)\n",
    "    - [4.7 Dispersión del número de pedidos por usuario.](#dpa)\n",
    "    - [4.8 Significancia estadística de la diferencia entre los grupos utilizando los datos en bruto](#sed)\n",
    "    - [4.9 Significancia estadística de la diferencia en promedio de pedidos entre los grupos utilizando los datos en bruto.](#sep)\n",
    "    - [4.10 Significancia estadística de la diferencia en la conversión entre los grupos utilizando los datos filtrados.](#sedc)\n",
    "    - [4.11 Significancia estadística de la diferencia en el promedio de pedido entre los grupos utilizando los datos filtrados.](#sedpp)\n",
    "5. [Conclusiones.](#cc)\n",
    "\n"
   ]
  },
  {
   "cell_type": "markdown",
   "metadata": {},
   "source": [
    "## Introducción <a id='Introducción'></a>"
   ]
  },
  {
   "cell_type": "markdown",
   "metadata": {},
   "source": [
    " <a id='Introducción'></a>"
   ]
  },
  {
   "cell_type": "markdown",
   "metadata": {},
   "source": [
    "Junto con el departamento de marketing vamos a recopilar una lista de hipótesis que pueden ayudar a aumentar los ingresos.\n",
    "Tenemos que priorizar estas hipótesis, y lanzar un test A/B para analizar los resultados."
   ]
  },
  {
   "cell_type": "markdown",
   "metadata": {},
   "source": [
    "## Descarga y preparación de datos.<a id='dp'></a>"
   ]
  },
  {
   "cell_type": "markdown",
   "metadata": {},
   "source": [
    "### Importacion de datos.<a id='lp'></a>"
   ]
  },
  {
   "cell_type": "code",
   "execution_count": 1,
   "metadata": {},
   "outputs": [],
   "source": [
    "# Cargaremos las librerias necesarias.\n",
    "import pandas as pd \n",
    "import math\n",
    "import numpy as np\n",
    "import seaborn as sns\n",
    "import matplotlib.pyplot as plt\n",
    "from scipy import stats as st\n",
    "from datetime import datetime"
   ]
  },
  {
   "cell_type": "markdown",
   "metadata": {},
   "source": [
    "### Exploracion de datos.<a id='ed'></a>"
   ]
  },
  {
   "cell_type": "code",
   "execution_count": 2,
   "metadata": {},
   "outputs": [],
   "source": [
    "# vamos a descargar los datos de nuestras hipótesis.\n",
    "hypothesis = pd.read_csv('/datasets/hypotheses_us.csv', sep=';')"
   ]
  },
  {
   "cell_type": "code",
   "execution_count": 3,
   "metadata": {},
   "outputs": [
    {
     "name": "stdout",
     "output_type": "stream",
     "text": [
      "<class 'pandas.core.frame.DataFrame'>\n",
      "RangeIndex: 9 entries, 0 to 8\n",
      "Data columns (total 5 columns):\n",
      " #   Column      Non-Null Count  Dtype \n",
      "---  ------      --------------  ----- \n",
      " 0   Hypothesis  9 non-null      object\n",
      " 1   Reach       9 non-null      int64 \n",
      " 2   Impact      9 non-null      int64 \n",
      " 3   Confidence  9 non-null      int64 \n",
      " 4   Effort      9 non-null      int64 \n",
      "dtypes: int64(4), object(1)\n",
      "memory usage: 488.0+ bytes\n",
      "\n",
      "Datos duplicados: 0\n"
     ]
    }
   ],
   "source": [
    "# vemos la informacion general de la tabla.\n",
    "hypothesis.info()\n",
    "print()\n",
    "print(f'Datos duplicados: {hypothesis.duplicated().sum()}')"
   ]
  },
  {
   "cell_type": "code",
   "execution_count": 4,
   "metadata": {},
   "outputs": [],
   "source": [
    "# realizaremos el cambio de los nombres de la columnas para dejarlas en minusculas.\n",
    "hypothesis = hypothesis.rename(columns= {'Hypothesis':'hypothesis', 'Reach':'reach', 'Impact':'impact', 'Confidence':'confidence', 'Effort':'effort'})"
   ]
  },
  {
   "cell_type": "markdown",
   "metadata": {},
   "source": [
    "La tabla hypotheses contiene la siguiente información.\n",
    "- `Hypothesis:` - Breves descripciones de las hipótesis.\n",
    "- `Reach:` - Alcance del usuario, en una escala del uno a diez.\n",
    "- `Impact:` - Impacto en los usuarios, en una escala del uno al diez.\n",
    "- `Confidence:` - Confianza en la hipótesis, en una escala del uno al diez.\n",
    "- `Effort:` - Los recursos necesarios para probar una hipótesis, en una escala del uno al diez."
   ]
  },
  {
   "cell_type": "markdown",
   "metadata": {},
   "source": [
    "**conclusión intermedia**\n",
    "- Tenemos una tabla con las hipotesis limpias donde no tenemos valores nulos ni datos duplicados. \n",
    "- esta tabla consta de 5 columnas con 9 hipótesis.\n",
    "- Realizamos el cambio de las columnas de mayusculas a minuculas.\n",
    "- No necesitamos cambiar el tipo de objecto de las columnas ya que cada una corresponde."
   ]
  },
  {
   "cell_type": "code",
   "execution_count": 5,
   "metadata": {},
   "outputs": [],
   "source": [
    "# vamos a descargar los datos de nuestras tablas.\n",
    "orders = pd.read_csv('/datasets/orders_us.csv', parse_dates=['date'])"
   ]
  },
  {
   "cell_type": "code",
   "execution_count": 6,
   "metadata": {},
   "outputs": [
    {
     "name": "stdout",
     "output_type": "stream",
     "text": [
      "<class 'pandas.core.frame.DataFrame'>\n",
      "RangeIndex: 1197 entries, 0 to 1196\n",
      "Data columns (total 5 columns):\n",
      " #   Column         Non-Null Count  Dtype         \n",
      "---  ------         --------------  -----         \n",
      " 0   transactionId  1197 non-null   int64         \n",
      " 1   visitorId      1197 non-null   int64         \n",
      " 2   date           1197 non-null   datetime64[ns]\n",
      " 3   revenue        1197 non-null   float64       \n",
      " 4   group          1197 non-null   object        \n",
      "dtypes: datetime64[ns](1), float64(1), int64(2), object(1)\n",
      "memory usage: 46.9+ KB\n",
      "\n",
      "Datos duplicados: 0\n"
     ]
    }
   ],
   "source": [
    "# Revisamos la informacion general.\n",
    "orders.info()\n",
    "print()\n",
    "print(f'Datos duplicados: {orders.duplicated().sum()}')"
   ]
  },
  {
   "cell_type": "code",
   "execution_count": 7,
   "metadata": {},
   "outputs": [],
   "source": [
    "# cambiaremos los nombres de la columna.\n",
    "orders = orders.rename(columns= {'transactionId': 'transactionid', 'visitorId': 'visitorid'})"
   ]
  },
  {
   "cell_type": "code",
   "execution_count": 8,
   "metadata": {},
   "outputs": [
    {
     "data": {
      "text/plain": [
       "B    640\n",
       "A    557\n",
       "Name: group, dtype: int64"
      ]
     },
     "execution_count": 8,
     "metadata": {},
     "output_type": "execute_result"
    }
   ],
   "source": [
    "# revisamos cual es la información de la columna gruop.\n",
    "orders['group'].value_counts()"
   ]
  },
  {
   "cell_type": "markdown",
   "metadata": {},
   "source": [
    "La tabla orders contiene la siguiente información.\n",
    "- `transactionId:` - Identificador de pedido.\n",
    "- `visitorId:` - Identificador del usuario que realizó el pedido.\n",
    "- `date:` - Fecha del pedido.\n",
    "- `revenue:` - Ingresos del pedido.\n",
    "- `group:` - El grupo del test A/B al que pertenece el usuario."
   ]
  },
  {
   "cell_type": "markdown",
   "metadata": {},
   "source": [
    "**Conclusión intermedia.**\n",
    "- Tenemos una tabla bastante limpia, con 0 valores duplicados y cero valores nulos.\n",
    "- tuvimos que cambiar los nombres de dos columnas que contenia letras mayuculas.\n",
    "- al descargar los datos cambiamos el tipo de objeto de la columna date a datetime64.\n",
    "- esta tabla tambien consta de 5 columnas pero 1197 filas.\n",
    "- tiene dos tipos de grupo el A y el B los cuales no son parejos."
   ]
  },
  {
   "cell_type": "code",
   "execution_count": 9,
   "metadata": {},
   "outputs": [],
   "source": [
    "# cargamos los datos de nuestra tabla.\n",
    "visits = pd.read_csv('/datasets/visits_us.csv', parse_dates=['date'])"
   ]
  },
  {
   "cell_type": "code",
   "execution_count": 10,
   "metadata": {
    "scrolled": true
   },
   "outputs": [
    {
     "name": "stdout",
     "output_type": "stream",
     "text": [
      "<class 'pandas.core.frame.DataFrame'>\n",
      "RangeIndex: 62 entries, 0 to 61\n",
      "Data columns (total 3 columns):\n",
      " #   Column  Non-Null Count  Dtype         \n",
      "---  ------  --------------  -----         \n",
      " 0   date    62 non-null     datetime64[ns]\n",
      " 1   group   62 non-null     object        \n",
      " 2   visits  62 non-null     int64         \n",
      "dtypes: datetime64[ns](1), int64(1), object(1)\n",
      "memory usage: 1.6+ KB\n",
      "\n",
      "Datos duplicados: 0\n"
     ]
    }
   ],
   "source": [
    "# Revisamos la informacion general.\n",
    "visits.info()\n",
    "print()\n",
    "print(f'Datos duplicados: {visits.duplicated().sum()}')"
   ]
  },
  {
   "cell_type": "code",
   "execution_count": 11,
   "metadata": {},
   "outputs": [
    {
     "data": {
      "text/plain": [
       "A    31\n",
       "B    31\n",
       "Name: group, dtype: int64"
      ]
     },
     "execution_count": 11,
     "metadata": {},
     "output_type": "execute_result"
    }
   ],
   "source": [
    "# revisamos cual es la información de la columna gruop.\n",
    "visits['group'].value_counts()"
   ]
  },
  {
   "cell_type": "markdown",
   "metadata": {},
   "source": [
    "La tabla visits contiene la siguiente información.\n",
    "- `date:` - La fecha.\n",
    "- `group:` - Grupo del test A/B\n",
    "- `visits:` - El número de visitas en la fecha especificada para el grupo de test A/B especificado."
   ]
  },
  {
   "cell_type": "markdown",
   "metadata": {},
   "source": [
    "**Conclusión intermedia.**\n",
    "- Tenemos una tabla bastante limpia, con 0 valores duplicados y cero valores nulos.\n",
    "- no tuvimos que cambiar los nombres de dos columnas.\n",
    "- al descargar los datos cambiamos el tipo de objeto de la columna date a datetime64.\n",
    "- esta tabla consta de 3 columnas y 62 filas.\n",
    "- tiene dos tipos de grupo el A y el B los cuales si son parejos."
   ]
  },
  {
   "cell_type": "markdown",
   "metadata": {},
   "source": [
    "## Primera parte<a id='1'></a>"
   ]
  },
  {
   "cell_type": "markdown",
   "metadata": {},
   "source": [
    "### Aplicación de framework \"ICE\" y \"RICE\". <a id='af'></a>"
   ]
  },
  {
   "cell_type": "code",
   "execution_count": 12,
   "metadata": {
    "scrolled": true
   },
   "outputs": [
    {
     "data": {
      "text/html": [
       "<div>\n",
       "<style scoped>\n",
       "    .dataframe tbody tr th:only-of-type {\n",
       "        vertical-align: middle;\n",
       "    }\n",
       "\n",
       "    .dataframe tbody tr th {\n",
       "        vertical-align: top;\n",
       "    }\n",
       "\n",
       "    .dataframe thead th {\n",
       "        text-align: right;\n",
       "    }\n",
       "</style>\n",
       "<table border=\"1\" class=\"dataframe\">\n",
       "  <thead>\n",
       "    <tr style=\"text-align: right;\">\n",
       "      <th></th>\n",
       "      <th>hypothesis</th>\n",
       "      <th>ice</th>\n",
       "    </tr>\n",
       "  </thead>\n",
       "  <tbody>\n",
       "    <tr>\n",
       "      <th>8</th>\n",
       "      <td>Launch a promotion that gives users discounts ...</td>\n",
       "      <td>16.200000</td>\n",
       "    </tr>\n",
       "    <tr>\n",
       "      <th>0</th>\n",
       "      <td>Add two new channels for attracting traffic. T...</td>\n",
       "      <td>13.333333</td>\n",
       "    </tr>\n",
       "    <tr>\n",
       "      <th>7</th>\n",
       "      <td>Add a subscription form to all the main pages....</td>\n",
       "      <td>11.200000</td>\n",
       "    </tr>\n",
       "    <tr>\n",
       "      <th>6</th>\n",
       "      <td>Show banners with current offers and sales on ...</td>\n",
       "      <td>8.000000</td>\n",
       "    </tr>\n",
       "    <tr>\n",
       "      <th>2</th>\n",
       "      <td>Add product recommendation blocks to the store...</td>\n",
       "      <td>7.000000</td>\n",
       "    </tr>\n",
       "    <tr>\n",
       "      <th>1</th>\n",
       "      <td>Launch your own delivery service. This will sh...</td>\n",
       "      <td>2.000000</td>\n",
       "    </tr>\n",
       "    <tr>\n",
       "      <th>5</th>\n",
       "      <td>Add a customer review page. This will increase...</td>\n",
       "      <td>1.333333</td>\n",
       "    </tr>\n",
       "    <tr>\n",
       "      <th>3</th>\n",
       "      <td>Change the category structure. This will incre...</td>\n",
       "      <td>1.125000</td>\n",
       "    </tr>\n",
       "    <tr>\n",
       "      <th>4</th>\n",
       "      <td>Change the background color on the main page. ...</td>\n",
       "      <td>1.000000</td>\n",
       "    </tr>\n",
       "  </tbody>\n",
       "</table>\n",
       "</div>"
      ],
      "text/plain": [
       "                                          hypothesis        ice\n",
       "8  Launch a promotion that gives users discounts ...  16.200000\n",
       "0  Add two new channels for attracting traffic. T...  13.333333\n",
       "7  Add a subscription form to all the main pages....  11.200000\n",
       "6  Show banners with current offers and sales on ...   8.000000\n",
       "2  Add product recommendation blocks to the store...   7.000000\n",
       "1  Launch your own delivery service. This will sh...   2.000000\n",
       "5  Add a customer review page. This will increase...   1.333333\n",
       "3  Change the category structure. This will incre...   1.125000\n",
       "4  Change the background color on the main page. ...   1.000000"
      ]
     },
     "execution_count": 12,
     "metadata": {},
     "output_type": "execute_result"
    }
   ],
   "source": [
    "# vamos a obtener el ice score de nuestros datos.\n",
    "hypothesis['ice'] = hypothesis['impact'] * hypothesis['confidence'] / hypothesis['effort']\n",
    "hypothesis[['hypothesis', 'ice']].sort_values(by='ice', ascending=False)"
   ]
  },
  {
   "cell_type": "code",
   "execution_count": 13,
   "metadata": {
    "scrolled": true
   },
   "outputs": [
    {
     "data": {
      "text/html": [
       "<div>\n",
       "<style scoped>\n",
       "    .dataframe tbody tr th:only-of-type {\n",
       "        vertical-align: middle;\n",
       "    }\n",
       "\n",
       "    .dataframe tbody tr th {\n",
       "        vertical-align: top;\n",
       "    }\n",
       "\n",
       "    .dataframe thead th {\n",
       "        text-align: right;\n",
       "    }\n",
       "</style>\n",
       "<table border=\"1\" class=\"dataframe\">\n",
       "  <thead>\n",
       "    <tr style=\"text-align: right;\">\n",
       "      <th></th>\n",
       "      <th>hypothesis</th>\n",
       "      <th>rice</th>\n",
       "    </tr>\n",
       "  </thead>\n",
       "  <tbody>\n",
       "    <tr>\n",
       "      <th>7</th>\n",
       "      <td>Add a subscription form to all the main pages....</td>\n",
       "      <td>112.0</td>\n",
       "    </tr>\n",
       "    <tr>\n",
       "      <th>2</th>\n",
       "      <td>Add product recommendation blocks to the store...</td>\n",
       "      <td>56.0</td>\n",
       "    </tr>\n",
       "    <tr>\n",
       "      <th>0</th>\n",
       "      <td>Add two new channels for attracting traffic. T...</td>\n",
       "      <td>40.0</td>\n",
       "    </tr>\n",
       "    <tr>\n",
       "      <th>6</th>\n",
       "      <td>Show banners with current offers and sales on ...</td>\n",
       "      <td>40.0</td>\n",
       "    </tr>\n",
       "    <tr>\n",
       "      <th>8</th>\n",
       "      <td>Launch a promotion that gives users discounts ...</td>\n",
       "      <td>16.2</td>\n",
       "    </tr>\n",
       "    <tr>\n",
       "      <th>3</th>\n",
       "      <td>Change the category structure. This will incre...</td>\n",
       "      <td>9.0</td>\n",
       "    </tr>\n",
       "    <tr>\n",
       "      <th>1</th>\n",
       "      <td>Launch your own delivery service. This will sh...</td>\n",
       "      <td>4.0</td>\n",
       "    </tr>\n",
       "    <tr>\n",
       "      <th>5</th>\n",
       "      <td>Add a customer review page. This will increase...</td>\n",
       "      <td>4.0</td>\n",
       "    </tr>\n",
       "    <tr>\n",
       "      <th>4</th>\n",
       "      <td>Change the background color on the main page. ...</td>\n",
       "      <td>3.0</td>\n",
       "    </tr>\n",
       "  </tbody>\n",
       "</table>\n",
       "</div>"
      ],
      "text/plain": [
       "                                          hypothesis   rice\n",
       "7  Add a subscription form to all the main pages....  112.0\n",
       "2  Add product recommendation blocks to the store...   56.0\n",
       "0  Add two new channels for attracting traffic. T...   40.0\n",
       "6  Show banners with current offers and sales on ...   40.0\n",
       "8  Launch a promotion that gives users discounts ...   16.2\n",
       "3  Change the category structure. This will incre...    9.0\n",
       "1  Launch your own delivery service. This will sh...    4.0\n",
       "5  Add a customer review page. This will increase...    4.0\n",
       "4  Change the background color on the main page. ...    3.0"
      ]
     },
     "execution_count": 13,
     "metadata": {},
     "output_type": "execute_result"
    }
   ],
   "source": [
    "# vamos a obtener el rice de nuestros datos.\n",
    "hypothesis['rice'] = (hypothesis['reach'] * hypothesis['impact'] * hypothesis['confidence']) / hypothesis['effort']\n",
    "hypothesis[['hypothesis', 'rice']].sort_values(by='rice', ascending=False)"
   ]
  },
  {
   "cell_type": "code",
   "execution_count": 14,
   "metadata": {},
   "outputs": [
    {
     "data": {
      "image/png": "[encoded data removed]",
      "text/plain": [
       "<Figure size 720x360 with 1 Axes>"
      ]
     },
     "metadata": {
      "needs_background": "light"
     },
     "output_type": "display_data"
    }
   ],
   "source": [
    "# Creamos un gráfico de scatter para observar mejor el comportamiento de 'ICE' y 'RICE'\n",
    "f, ax = plt.subplots(figsize=(10, 5))\n",
    "colores=['blue','gray','purple','orange','brown','black','green','red','gray']\n",
    "sns.scatterplot(data=hypothesis, x='ice', y='rice', hue=hypothesis.index, palette=colores)\n",
    "\n",
    "# Agregar etiquetas arriba de cada punto\n",
    "for i, row in hypothesis.iterrows():\n",
    "    ax.annotate(row.name, (row['ice'], row['rice']), ha='center', va='bottom')\n",
    "\n",
    "plt.title(\"Gráfico 'ICE' vs 'RICE'\")\n",
    "plt.xlabel('ICE')\n",
    "plt.ylabel('RICE')\n",
    "plt.show()"
   ]
  },
  {
   "cell_type": "markdown",
   "metadata": {},
   "source": [
    "**Conclusión intermedia.**\n",
    "- obtuvimos el ICE y el RICE de cada una de las hipótesis, logramos identificar que:\n",
    "- Segú el ICE las hipótesis mas resaltantes son la 8, 0, y 7 siendo la 8 la hipótesis mas prometedora.\n",
    "- Según el RICE las hipótesis mas resaltantes son las 7, 2 y la 0 siendo la hipótesis 7 la mas prometedora.\n",
    "- Y podemos notar que con ambas la 7 y la 0 son las que estan entre las primeras."
   ]
  },
  {
   "cell_type": "markdown",
   "metadata": {},
   "source": [
    "## Segunda parte.<a id='2'></a>"
   ]
  },
  {
   "cell_type": "markdown",
   "metadata": {},
   "source": [
    "### Análisis de test A/B<a id='ab'></a>"
   ]
  },
  {
   "cell_type": "code",
   "execution_count": 15,
   "metadata": {},
   "outputs": [
    {
     "data": {
      "text/plain": [
       "(503,)"
      ]
     },
     "execution_count": 15,
     "metadata": {},
     "output_type": "execute_result"
    }
   ],
   "source": [
    "# revisaremos si la lista de clientes son unicos por grupo.\n",
    "clientes_a = orders[orders['group'] == 'A']['visitorid'].unique()\n",
    "clientes_a.shape"
   ]
  },
  {
   "cell_type": "code",
   "execution_count": 16,
   "metadata": {},
   "outputs": [
    {
     "data": {
      "text/plain": [
       "(586,)"
      ]
     },
     "execution_count": 16,
     "metadata": {},
     "output_type": "execute_result"
    }
   ],
   "source": [
    "# revisaremos si la lista de clientes son unicos por grupo.\n",
    "clientes_b = orders[orders['group'] == 'B']['visitorid'].unique()\n",
    "clientes_b.shape"
   ]
  },
  {
   "cell_type": "code",
   "execution_count": 17,
   "metadata": {
    "scrolled": true
   },
   "outputs": [
    {
     "name": "stdout",
     "output_type": "stream",
     "text": [
      "Hay 58 usuarios que aparecen en ambos grupos.\n"
     ]
    }
   ],
   "source": [
    "df1 = set(clientes_a)\n",
    "df2 = set(clientes_b)\n",
    "df3 = df1 & df2\n",
    "lista_clientesab = list(df3)\n",
    "print(f'Hay {len(lista_clientesab)} usuarios que aparecen en ambos grupos.')"
   ]
  },
  {
   "cell_type": "code",
   "execution_count": 18,
   "metadata": {},
   "outputs": [
    {
     "data": {
      "text/html": [
       "<div>\n",
       "<style scoped>\n",
       "    .dataframe tbody tr th:only-of-type {\n",
       "        vertical-align: middle;\n",
       "    }\n",
       "\n",
       "    .dataframe tbody tr th {\n",
       "        vertical-align: top;\n",
       "    }\n",
       "\n",
       "    .dataframe thead th {\n",
       "        text-align: right;\n",
       "    }\n",
       "</style>\n",
       "<table border=\"1\" class=\"dataframe\">\n",
       "  <thead>\n",
       "    <tr style=\"text-align: right;\">\n",
       "      <th></th>\n",
       "      <th>transactionid</th>\n",
       "      <th>visitorid</th>\n",
       "      <th>date</th>\n",
       "      <th>revenue</th>\n",
       "      <th>group</th>\n",
       "    </tr>\n",
       "  </thead>\n",
       "  <tbody>\n",
       "    <tr>\n",
       "      <th>703</th>\n",
       "      <td>4293855558</td>\n",
       "      <td>8300375</td>\n",
       "      <td>2019-08-07</td>\n",
       "      <td>30.5</td>\n",
       "      <td>A</td>\n",
       "    </tr>\n",
       "    <tr>\n",
       "      <th>71</th>\n",
       "      <td>3679129301</td>\n",
       "      <td>8300375</td>\n",
       "      <td>2019-08-01</td>\n",
       "      <td>165.7</td>\n",
       "      <td>B</td>\n",
       "    </tr>\n",
       "    <tr>\n",
       "      <th>823</th>\n",
       "      <td>2971973105</td>\n",
       "      <td>199603092</td>\n",
       "      <td>2019-08-27</td>\n",
       "      <td>45.9</td>\n",
       "      <td>A</td>\n",
       "    </tr>\n",
       "    <tr>\n",
       "      <th>246</th>\n",
       "      <td>437656952</td>\n",
       "      <td>199603092</td>\n",
       "      <td>2019-08-02</td>\n",
       "      <td>55.7</td>\n",
       "      <td>B</td>\n",
       "    </tr>\n",
       "    <tr>\n",
       "      <th>26</th>\n",
       "      <td>2223239646</td>\n",
       "      <td>199603092</td>\n",
       "      <td>2019-08-15</td>\n",
       "      <td>55.7</td>\n",
       "      <td>A</td>\n",
       "    </tr>\n",
       "    <tr>\n",
       "      <th>134</th>\n",
       "      <td>62794304</td>\n",
       "      <td>199603092</td>\n",
       "      <td>2019-08-22</td>\n",
       "      <td>110.3</td>\n",
       "      <td>A</td>\n",
       "    </tr>\n",
       "    <tr>\n",
       "      <th>1102</th>\n",
       "      <td>1941707234</td>\n",
       "      <td>199603092</td>\n",
       "      <td>2019-08-12</td>\n",
       "      <td>100.0</td>\n",
       "      <td>A</td>\n",
       "    </tr>\n",
       "    <tr>\n",
       "      <th>1009</th>\n",
       "      <td>2670069237</td>\n",
       "      <td>232979603</td>\n",
       "      <td>2019-08-31</td>\n",
       "      <td>45.6</td>\n",
       "      <td>B</td>\n",
       "    </tr>\n",
       "    <tr>\n",
       "      <th>1013</th>\n",
       "      <td>83566152</td>\n",
       "      <td>232979603</td>\n",
       "      <td>2019-08-31</td>\n",
       "      <td>5.9</td>\n",
       "      <td>A</td>\n",
       "    </tr>\n",
       "    <tr>\n",
       "      <th>590</th>\n",
       "      <td>3702128013</td>\n",
       "      <td>237748145</td>\n",
       "      <td>2019-08-20</td>\n",
       "      <td>20.8</td>\n",
       "      <td>A</td>\n",
       "    </tr>\n",
       "  </tbody>\n",
       "</table>\n",
       "</div>"
      ],
      "text/plain": [
       "      transactionid  visitorid       date  revenue group\n",
       "703      4293855558    8300375 2019-08-07     30.5     A\n",
       "71       3679129301    8300375 2019-08-01    165.7     B\n",
       "823      2971973105  199603092 2019-08-27     45.9     A\n",
       "246       437656952  199603092 2019-08-02     55.7     B\n",
       "26       2223239646  199603092 2019-08-15     55.7     A\n",
       "134        62794304  199603092 2019-08-22    110.3     A\n",
       "1102     1941707234  199603092 2019-08-12    100.0     A\n",
       "1009     2670069237  232979603 2019-08-31     45.6     B\n",
       "1013       83566152  232979603 2019-08-31      5.9     A\n",
       "590      3702128013  237748145 2019-08-20     20.8     A"
      ]
     },
     "execution_count": 18,
     "metadata": {},
     "output_type": "execute_result"
    }
   ],
   "source": [
    "# verifiquemos que esos usuarios aparecen en ambos grupos.\n",
    "orders[orders['visitorid'].isin(lista_clientesab)].sort_values('visitorid').head(10)"
   ]
  },
  {
   "cell_type": "code",
   "execution_count": 19,
   "metadata": {},
   "outputs": [
    {
     "data": {
      "text/plain": [
       "(181, 5)"
      ]
     },
     "execution_count": 19,
     "metadata": {},
     "output_type": "execute_result"
    }
   ],
   "source": [
    "# veamos cuantas compras fueron realizadas por estos usuarios\n",
    "orders[orders['visitorid'].isin(lista_clientesab)].shape"
   ]
  },
  {
   "cell_type": "code",
   "execution_count": 20,
   "metadata": {},
   "outputs": [
    {
     "data": {
      "text/plain": [
       "(1016, 5)"
      ]
     },
     "execution_count": 20,
     "metadata": {},
     "output_type": "execute_result"
    }
   ],
   "source": [
    "# creamos un set de datos de las compras sin las compras realizadas por los usuarios pertenecientes a ambos grupos\n",
    "orders_ab = orders[~orders['visitorid'].isin(lista_clientesab)].copy()\n",
    "#revisamos el tamaño del dataframe creado\n",
    "orders_ab.shape"
   ]
  },
  {
   "cell_type": "markdown",
   "metadata": {},
   "source": [
    "\n",
    "- Tenemos 181 compras realizadas por los 58 usuarios que aparecen en ambos grupos. Vamos a eliminar estas compras realizadas por estos usuarios para que los resultados de la prueba A/B sean válidos.\""
   ]
  },
  {
   "cell_type": "markdown",
   "metadata": {},
   "source": [
    "### Ingreso acumulado por grupo.<a id='iag'></a>"
   ]
  },
  {
   "cell_type": "code",
   "execution_count": 21,
   "metadata": {},
   "outputs": [],
   "source": [
    "# creamos una matriz con valores únicos de parejas fecha-grupo\n",
    "date_group = orders_ab[['date', 'group']].drop_duplicates()"
   ]
  },
  {
   "cell_type": "code",
   "execution_count": 22,
   "metadata": {},
   "outputs": [],
   "source": [
    "# obtenemos los ingresos diarios acumulados\\n\",\n",
    "orders_agg = date_group.apply(lambda x: orders_ab[np.logical_and(orders_ab['date'] <= x['date'], orders_ab['group'] == x['group'])]\\\n",
    "                                      .agg({'date':'max', 'group':'max', 'transactionid':pd.Series.nunique, 'visitorid':pd.Series.nunique, 'revenue':'sum'}), axis=1)\\\n",
    "                                      .sort_values(by=['date','group'])\n",
    "orders_agg.columns=['date', 'group', 'orders', 'buyers', 'revenue']"
   ]
  },
  {
   "cell_type": "code",
   "execution_count": 23,
   "metadata": {},
   "outputs": [],
   "source": [
    "# obtenemos las visitas diarias acumuladas\n",
    "visits_agg = date_group.apply(lambda x: visits[np.logical_and(visits['date'] <= x['date'], visits['group'] == x['group'])]\\\n",
    "                              .agg({'date':'max', 'group':'max', 'visits':'sum'}), axis=1)\\\n",
    "                              .sort_values(by=['date','group'])\n",
    "visits_agg.columns=['date','group','visits']"
   ]
  },
  {
   "cell_type": "code",
   "execution_count": 24,
   "metadata": {},
   "outputs": [
    {
     "data": {
      "text/html": [
       "<div>\n",
       "<style scoped>\n",
       "    .dataframe tbody tr th:only-of-type {\n",
       "        vertical-align: middle;\n",
       "    }\n",
       "\n",
       "    .dataframe tbody tr th {\n",
       "        vertical-align: top;\n",
       "    }\n",
       "\n",
       "    .dataframe thead th {\n",
       "        text-align: right;\n",
       "    }\n",
       "</style>\n",
       "<table border=\"1\" class=\"dataframe\">\n",
       "  <thead>\n",
       "    <tr style=\"text-align: right;\">\n",
       "      <th></th>\n",
       "      <th>date</th>\n",
       "      <th>group</th>\n",
       "      <th>orders</th>\n",
       "      <th>buyers</th>\n",
       "      <th>revenue</th>\n",
       "      <th>visits</th>\n",
       "    </tr>\n",
       "  </thead>\n",
       "  <tbody>\n",
       "    <tr>\n",
       "      <th>34</th>\n",
       "      <td>2019-08-18</td>\n",
       "      <td>A</td>\n",
       "      <td>278</td>\n",
       "      <td>264</td>\n",
       "      <td>29735.7</td>\n",
       "      <td>11127</td>\n",
       "    </tr>\n",
       "  </tbody>\n",
       "</table>\n",
       "</div>"
      ],
      "text/plain": [
       "         date group  orders  buyers  revenue  visits\n",
       "34 2019-08-18     A     278     264  29735.7   11127"
      ]
     },
     "execution_count": 24,
     "metadata": {},
     "output_type": "execute_result"
    }
   ],
   "source": [
    "# fusionamos los ingresos acumulados con la tabla de visitas.\n",
    "total_acumulativo = orders_agg.merge(visits_agg, on=['date','group'])\n",
    "total_acumulativo.sample()"
   ]
  },
  {
   "cell_type": "code",
   "execution_count": 25,
   "metadata": {
    "scrolled": true
   },
   "outputs": [
    {
     "data": {
      "image/png": "[encoded data removed]",
      "text/plain": [
       "<Figure size 720x360 with 1 Axes>"
      ]
     },
     "metadata": {
      "needs_background": "light"
     },
     "output_type": "display_data"
    }
   ],
   "source": [
    "# Creamos el gráfico del monto de pedidos acumulados por grupo.\n",
    "\n",
    "# DataFrame con pedidos acumulados e ingresos acumulados por día, grupo A\n",
    "acumulativo_a = total_acumulativo[total_acumulativo['group']=='A'][['date','revenue', 'orders']]\n",
    "\n",
    "#DataFrame con pedidos acumulados e ingresos acumulados por día, grupo B\\n\",\n",
    "acumulativo_b = total_acumulativo[total_acumulativo['group']=='B'][['date','revenue', 'orders']]\n",
    "\n",
    "\n",
    "plt.subplots(figsize=(10,5))\n",
    "plt.plot(acumulativo_a['date'], acumulativo_a['revenue'], label='A')\n",
    "plt.plot(acumulativo_b['date'], acumulativo_b['revenue'], label='B')\n",
    "plt.title('Montos de pedidos acumulados por grupo')\n",
    "plt.ylabel('Revenue')\n",
    "plt.xticks(rotation=50)\n",
    "plt.legend()\n",
    "plt.show()"
   ]
  },
  {
   "cell_type": "markdown",
   "metadata": {},
   "source": [
    "**Conclusión intermedia.**\n",
    "- Podemos notar en nuestro grafico que los ingresos del grupo B tuvieron una alza en las fechas del 18 de agosto, que nos puede indicar una subida de precio significativa.\n",
    "- también nos puede indicar que sea un resultado de un valor extremo.\n",
    "- el grupo A se ha mantenido estable desde la misma fecha 18 de agosto "
   ]
  },
  {
   "cell_type": "markdown",
   "metadata": {},
   "source": [
    "### Tamaño de pedido promedio acumulado por grupo<a id='tma'></a>"
   ]
  },
  {
   "cell_type": "code",
   "execution_count": 26,
   "metadata": {},
   "outputs": [
    {
     "data": {
      "image/png": "[encoded data removed]",
      "text/plain": [
       "<Figure size 720x360 with 1 Axes>"
      ]
     },
     "metadata": {
      "needs_background": "light"
     },
     "output_type": "display_data"
    }
   ],
   "source": [
    "# Creamos el gráfico del monto promedio por grupo.\n",
    "plt.subplots(figsize=(10,5))\n",
    "plt.plot(acumulativo_a['date'], acumulativo_a['revenue'] / acumulativo_a['orders'], label='A')\n",
    "plt.plot(acumulativo_b['date'], acumulativo_b['revenue'] / acumulativo_b['orders'], label='B')\n",
    "plt.title('Pedidos promedio acumulado por grupo')\n",
    "plt.ylabel('Revenue')\n",
    "plt.xticks(rotation=45)\n",
    "plt.legend()\n",
    "plt.show()"
   ]
  },
  {
   "cell_type": "markdown",
   "metadata": {},
   "source": [
    "**Conclusión intermedia.**\n",
    "- notamos en el gráfico que el grupo B tuvo un cambio drastico en las fecha pasada el 17 de agosto y posteriormente volvió a decrecer, lo que puede ser un indicativo de que hubo pedidos muy caros en esa fecha\n",
    "- también nos puede indicar que sea un resultado de un valor extremo.\n",
    "- Para el grupo A el tamaño promedio se estabilizó a esas fechas. El tamaño de compra promedio para el grupo B continúa sin estabilizarse por lo que se necesitan más datos para encontrar ese tamaño y establecer su nivel."
   ]
  },
  {
   "cell_type": "markdown",
   "metadata": {},
   "source": [
    "### Diferencias relativas en el tamaño de pedido promedio acumulado entre los grupos.<a id='dta'></a>"
   ]
  },
  {
   "cell_type": "code",
   "execution_count": 27,
   "metadata": {},
   "outputs": [
    {
     "data": {
      "text/html": [
       "<div>\n",
       "<style scoped>\n",
       "    .dataframe tbody tr th:only-of-type {\n",
       "        vertical-align: middle;\n",
       "    }\n",
       "\n",
       "    .dataframe tbody tr th {\n",
       "        vertical-align: top;\n",
       "    }\n",
       "\n",
       "    .dataframe thead th {\n",
       "        text-align: right;\n",
       "    }\n",
       "</style>\n",
       "<table border=\"1\" class=\"dataframe\">\n",
       "  <thead>\n",
       "    <tr style=\"text-align: right;\">\n",
       "      <th></th>\n",
       "      <th>date</th>\n",
       "      <th>revenueA</th>\n",
       "      <th>ordersA</th>\n",
       "      <th>revenueB</th>\n",
       "      <th>ordersB</th>\n",
       "    </tr>\n",
       "  </thead>\n",
       "  <tbody>\n",
       "    <tr>\n",
       "      <th>0</th>\n",
       "      <td>2019-08-01</td>\n",
       "      <td>2266.6</td>\n",
       "      <td>23</td>\n",
       "      <td>967.2</td>\n",
       "      <td>17</td>\n",
       "    </tr>\n",
       "  </tbody>\n",
       "</table>\n",
       "</div>"
      ],
      "text/plain": [
       "        date  revenueA  ordersA  revenueB  ordersB\n",
       "0 2019-08-01    2266.6       23     967.2       17"
      ]
     },
     "execution_count": 27,
     "metadata": {},
     "output_type": "execute_result"
    }
   ],
   "source": [
    "# uniremos la dos tablas de acumulativos por grupo.\n",
    "merge_acumulativo_ab = acumulativo_a.merge(acumulativo_b, on='date', how='left', suffixes=['A', 'B'])\n",
    "merge_acumulativo_ab.head(1)"
   ]
  },
  {
   "cell_type": "code",
   "execution_count": 28,
   "metadata": {},
   "outputs": [
    {
     "data": {
      "image/png": "[encoded data removed]",
      "text/plain": [
       "<Figure size 720x360 with 1 Axes>"
      ]
     },
     "metadata": {
      "needs_background": "light"
     },
     "output_type": "display_data"
    }
   ],
   "source": [
    "# Creamos el gráfico de diferencia relativa para los montos de compra promedio.\n",
    "plt.subplots(figsize=(10,5))\n",
    "plt.plot(merge_acumulativo_ab['date'], (merge_acumulativo_ab['revenueB'] / merge_acumulativo_ab['ordersB'])\\\n",
    "         /(merge_acumulativo_ab['revenueA'] / merge_acumulativo_ab['ordersA']) -1, color='red')\n",
    "plt.title('diferencias relativa para los montos de compra promedio')\n",
    "\n",
    "# agregamos una línea horizontal en y=0\n",
    "plt.axhline(y=0, color='blue', linestyle='--')\n",
    "plt.xticks(rotation=45,ha='right')\n",
    "plt.show()"
   ]
  },
  {
   "cell_type": "markdown",
   "metadata": {},
   "source": [
    "### Tasa de conversión. <a id='ts'></a>"
   ]
  },
  {
   "cell_type": "code",
   "execution_count": 29,
   "metadata": {},
   "outputs": [
    {
     "data": {
      "text/html": [
       "<div>\n",
       "<style scoped>\n",
       "    .dataframe tbody tr th:only-of-type {\n",
       "        vertical-align: middle;\n",
       "    }\n",
       "\n",
       "    .dataframe tbody tr th {\n",
       "        vertical-align: top;\n",
       "    }\n",
       "\n",
       "    .dataframe thead th {\n",
       "        text-align: right;\n",
       "    }\n",
       "</style>\n",
       "<table border=\"1\" class=\"dataframe\">\n",
       "  <thead>\n",
       "    <tr style=\"text-align: right;\">\n",
       "      <th></th>\n",
       "      <th>date</th>\n",
       "      <th>group</th>\n",
       "      <th>orders</th>\n",
       "      <th>buyers</th>\n",
       "      <th>revenue</th>\n",
       "      <th>visits</th>\n",
       "      <th>conversion</th>\n",
       "    </tr>\n",
       "  </thead>\n",
       "  <tbody>\n",
       "    <tr>\n",
       "      <th>0</th>\n",
       "      <td>2019-08-01</td>\n",
       "      <td>A</td>\n",
       "      <td>23</td>\n",
       "      <td>19</td>\n",
       "      <td>2266.6</td>\n",
       "      <td>719</td>\n",
       "      <td>0.031989</td>\n",
       "    </tr>\n",
       "  </tbody>\n",
       "</table>\n",
       "</div>"
      ],
      "text/plain": [
       "        date group  orders  buyers  revenue  visits  conversion\n",
       "0 2019-08-01     A      23      19   2266.6     719    0.031989"
      ]
     },
     "execution_count": 29,
     "metadata": {},
     "output_type": "execute_result"
    }
   ],
   "source": [
    "# calculamos la tasa de conversión acumulada para cada grupo\\n\",\n",
    "total_acumulativo['conversion'] = total_acumulativo['orders'] / total_acumulativo['visits']\n",
    "total_acumulativo.head(1)"
   ]
  },
  {
   "cell_type": "code",
   "execution_count": 30,
   "metadata": {},
   "outputs": [
    {
     "data": {
      "image/png": "[encoded data removed]",
      "text/plain": [
       "<Figure size 720x360 with 1 Axes>"
      ]
     },
     "metadata": {
      "needs_background": "light"
     },
     "output_type": "display_data"
    }
   ],
   "source": [
    "# Creamos el gráfico de tasa de conversión acumulada por grupo.\n",
    "# seleccionamos datos en el grupo A\n",
    "acumulativo_a = total_acumulativo[total_acumulativo['group']=='A']\n",
    "\n",
    "# seleccionamos datos en el grupo B\n",
    "acumulativo_b = total_acumulativo[total_acumulativo['group']=='B']\n",
    "\n",
    "plt.subplots(figsize=(10,5))\n",
    "\n",
    "# trazar los gráficos\n",
    "plt.plot(acumulativo_a['date'], acumulativo_a['conversion'], label='A')\n",
    "plt.plot(acumulativo_b['date'], acumulativo_b['conversion'], label='B')\n",
    "plt.title('Tasa de conversión acumulada por grupo')\n",
    "plt.legend()\n",
    "plt.ylabel('Tasa de conversión')\n",
    "plt.ylim( 0.02, 0.04)\n",
    "plt.xticks(rotation=45)\n",
    "plt.show()"
   ]
  },
  {
   "cell_type": "markdown",
   "metadata": {},
   "source": [
    "- Observamos fluctuaciones en la tasa de conversión acumulada para ambos grupos. Posiblemente como consecuencia de que haya días con demasiadas ordenes de compra. La tasa de conversión para ambos grupos parece estabilizarse."
   ]
  },
  {
   "cell_type": "markdown",
   "metadata": {},
   "source": [
    "### Diferencia relativa para las tasas de conversión acumuladas<a id='dra'></a>"
   ]
  },
  {
   "cell_type": "code",
   "execution_count": 31,
   "metadata": {
    "scrolled": false
   },
   "outputs": [
    {
     "data": {
      "image/png": "[encoded data removed]",
      "text/plain": [
       "<Figure size 720x360 with 1 Axes>"
      ]
     },
     "metadata": {
      "needs_background": "light"
     },
     "output_type": "display_data"
    }
   ],
   "source": [
    "# Creamos un gráfico para la diferencia relativa para las tasas de conversión acumuladas.\n",
    "acumulativo_conv = acumulativo_a[['date','conversion']].merge(acumulativo_b[['date','conversion']], on='date', how='left', suffixes=['A', 'B'])\n",
    "plt.subplots(figsize=(10,5))\n",
    "plt.plot(acumulativo_conv['date'], acumulativo_conv['conversionB'] / acumulativo_conv['conversionA'] - 1, color='r')\n",
    "plt.title('Diferencia relativa para las tasas de conversión acumuladas')\n",
    "plt.axhline(y=0, color='blue', linestyle='--')\n",
    "plt.axhline(y=0.1, color='grey', linestyle='--')\n",
    "plt.xticks(rotation=45,ha='right')\n",
    "plt.show()"
   ]
  },
  {
   "cell_type": "markdown",
   "metadata": {},
   "source": [
    "### Dispersión del número de pedidos por usuario.<a id='dpa'></a>"
   ]
  },
  {
   "cell_type": "code",
   "execution_count": 32,
   "metadata": {},
   "outputs": [
    {
     "data": {
      "text/html": [
       "<div>\n",
       "<style scoped>\n",
       "    .dataframe tbody tr th:only-of-type {\n",
       "        vertical-align: middle;\n",
       "    }\n",
       "\n",
       "    .dataframe tbody tr th {\n",
       "        vertical-align: top;\n",
       "    }\n",
       "\n",
       "    .dataframe thead th {\n",
       "        text-align: right;\n",
       "    }\n",
       "</style>\n",
       "<table border=\"1\" class=\"dataframe\">\n",
       "  <thead>\n",
       "    <tr style=\"text-align: right;\">\n",
       "      <th></th>\n",
       "      <th>visitorid</th>\n",
       "      <th>orders</th>\n",
       "    </tr>\n",
       "  </thead>\n",
       "  <tbody>\n",
       "    <tr>\n",
       "      <th>0</th>\n",
       "      <td>5114589</td>\n",
       "      <td>1</td>\n",
       "    </tr>\n",
       "  </tbody>\n",
       "</table>\n",
       "</div>"
      ],
      "text/plain": [
       "   visitorid  orders\n",
       "0    5114589       1"
      ]
     },
     "execution_count": 32,
     "metadata": {},
     "output_type": "execute_result"
    }
   ],
   "source": [
    "# calculamos el número de pedidos por usuario\n",
    "orders_user = orders_ab.groupby('visitorid', as_index=False).agg(orders=('transactionid','nunique'))\n",
    "orders_user.head(1)"
   ]
  },
  {
   "cell_type": "code",
   "execution_count": 33,
   "metadata": {
    "scrolled": true
   },
   "outputs": [
    {
     "data": {
      "image/png": "[encoded data removed]",
      "text/plain": [
       "<Figure size 864x360 with 2 Axes>"
      ]
     },
     "metadata": {
      "needs_background": "light"
     },
     "output_type": "display_data"
    }
   ],
   "source": [
    "# Creamos el histograma y el gráfico de dispersión para el número de pedidos por usuario\n",
    "x_values = pd.Series(range(0,len(orders_user)))\n",
    "fig,(ax1,ax2) = plt.subplots(1, 2, figsize= (12,5))\n",
    "ax1.set_title('Número de pedidos por usuario')\n",
    "ax1 = orders_user['orders'].hist(ax = ax1, grid=False)\n",
    "ax2.set_title('Dispersión para el número de pedidos por usuario')\n",
    "ax2 = plt.scatter(x_values, orders_user['orders'])\n",
    "plt.show()"
   ]
  },
  {
   "cell_type": "markdown",
   "metadata": {},
   "source": [
    "- La mayoría de los usuarios realizan un solo pedido. Una parte significativa hizo de dos a tres pedidos cada uno."
   ]
  },
  {
   "cell_type": "code",
   "execution_count": 34,
   "metadata": {},
   "outputs": [
    {
     "name": "stdout",
     "output_type": "stream",
     "text": [
      "[1. 2.]\n"
     ]
    }
   ],
   "source": [
    "# calculamos los percentiles para el número de pedidos por usuario\n",
    "print(np.percentile(orders_user['orders'], [95, 99]))"
   ]
  },
  {
   "cell_type": "code",
   "execution_count": 35,
   "metadata": {
    "scrolled": true
   },
   "outputs": [
    {
     "data": {
      "image/png": "[encoded data removed]",
      "text/plain": [
       "<Figure size 864x360 with 2 Axes>"
      ]
     },
     "metadata": {
      "needs_background": "light"
     },
     "output_type": "display_data"
    }
   ],
   "source": [
    "# Creamos el histograma y el gráfico de dispersión para los montos de los pedidos\n",
    "x_values = pd.Series(range(0, orders_ab.shape[0]))\n",
    "fig, (ax1, ax2) = plt.subplots(1, 2, figsize= (12,5))\n",
    "ax1. set_title('Montos de los pedidos')\n",
    "ax1.set_xlim(0,3000)\n",
    "ax1 = sns.histplot(orders_ab['revenue'], bins=100, ax= ax1)\n",
    "ax2.set_title('Dispersión para los montos de los pedidos')\n",
    "ax2 = plt.scatter(x_values, orders_ab['revenue'])\n",
    "plt.show()"
   ]
  },
  {
   "cell_type": "code",
   "execution_count": 36,
   "metadata": {},
   "outputs": [
    {
     "name": "stdout",
     "output_type": "stream",
     "text": [
      "[435.54  900.904]\n"
     ]
    }
   ],
   "source": [
    "# mostramos los percentiles de los montos de los pedidos\n",
    "print(np.percentile(orders['revenue'], [95, 99]))"
   ]
  },
  {
   "cell_type": "code",
   "execution_count": 37,
   "metadata": {
    "scrolled": true
   },
   "outputs": [
    {
     "data": {
      "text/plain": [
       "count     1197.000000\n",
       "mean       131.491646\n",
       "std        603.004729\n",
       "min          5.000000\n",
       "25%         20.800000\n",
       "50%         50.200000\n",
       "75%        130.400000\n",
       "max      19920.400000\n",
       "Name: revenue, dtype: float64"
      ]
     },
     "execution_count": 37,
     "metadata": {},
     "output_type": "execute_result"
    }
   ],
   "source": [
    "orders['revenue'].describe()"
   ]
  },
  {
   "cell_type": "markdown",
   "metadata": {},
   "source": [
    "- No más del 5% de los pedidos suman un monto de 435.54 y no más del 1% son superiores a 900.904. Vamos a establecer 435 como el límite del monto de un pedido y filtraremos las anomalías en base a ello.\n",
    "- El gráfico nos permite observar claramente que existen valores extremos en **revenue**."
   ]
  },
  {
   "cell_type": "markdown",
   "metadata": {},
   "source": [
    "### Significancia estadística de la diferencia entre los grupos utilizando los datos en bruto. <a id='sed'></a>"
   ]
  },
  {
   "cell_type": "markdown",
   "metadata": {},
   "source": [
    "**Supuestos en la prueba U de Mann-Whitney:**\n",
    "1. La variable dependiente debe medirse a nivel ordinal o continuo.\n",
    "2. La variable independiente debe consistir en dos grupos.\n",
    "3. Debe haber independencia de las observaciones de cada grupo.\n",
    "\n",
    "- Esto significa que no hay relación entre las observaciones de cada grupo o entre los propios grupos. Por ejemplo, debe haber diferentes participantes en cada grupo y ningún participante debe estar en más de un grupo. \n",
    "1. Las dos variables se distribuyen de forma anormal.\n",
    "- La prueba U de Mann-Whitney puede utilizarse cuando las dos variables no se distribuyen de forma regular."
   ]
  },
  {
   "cell_type": "markdown",
   "metadata": {},
   "source": [
    "**Probaremos la hipótesis nula:**\n",
    "  - H0: Las medias de la cantidad de compras en los grupos A y B son iguales\n",
    "  - Ha: Las medias de la cantidad de compras en los grupos A y B no son iguales"
   ]
  },
  {
   "cell_type": "code",
   "execution_count": 38,
   "metadata": {},
   "outputs": [],
   "source": [
    "# creamos un dataframe para el grupo 'A' conteniendo los pedidos por usuario\n",
    "orders_users_a = orders_ab[orders_ab['group']=='A'].groupby('visitorid', as_index=False).agg({'transactionid' : pd.Series.nunique})\n",
    "orders_users_a.columns = ['visitorid', 'orders']"
   ]
  },
  {
   "cell_type": "code",
   "execution_count": 39,
   "metadata": {},
   "outputs": [],
   "source": [
    "# para los usuarios que no hicieron pedidos tendrán un cero\n",
    "# creamos la muestra para el grupo 'A'\n",
    "sample_a = pd.concat([orders_users_a['orders'], pd.Series(0, index=np.arange(visits[visits['group']=='A']['visits'].sum()\\\n",
    "                                                                             - len(orders_users_a['orders'])), name='orders')],axis=0)"
   ]
  },
  {
   "cell_type": "code",
   "execution_count": 40,
   "metadata": {},
   "outputs": [],
   "source": [
    "# creamos un dataframe para el grupo 'B' conteniendo los pedidos por usuario\n",
    "orders_users_b = orders_ab[orders_ab['group']=='B'].groupby('visitorid', as_index=False).agg({'transactionid' : pd.Series.nunique})\n",
    "orders_users_b.columns = ['visitorid', 'orders']"
   ]
  },
  {
   "cell_type": "code",
   "execution_count": 41,
   "metadata": {
    "scrolled": true
   },
   "outputs": [
    {
     "data": {
      "text/plain": [
       "1    510\n",
       "2     16\n",
       "3      2\n",
       "Name: orders, dtype: int64"
      ]
     },
     "execution_count": 41,
     "metadata": {},
     "output_type": "execute_result"
    }
   ],
   "source": [
    "orders_users_b['orders'].value_counts()"
   ]
  },
  {
   "cell_type": "code",
   "execution_count": 42,
   "metadata": {},
   "outputs": [],
   "source": [
    "# para los usuarios que no hicieron pedidos tendrán un cero\n",
    "#creamos la muestra para el grupo 'B'\n",
    "sample_b = pd.concat([orders_users_b['orders'], pd.Series(0, index=np.arange(visits[visits['group']=='B']['visits'].sum()\\\n",
    "                                                                             - len(orders_users_b['orders'])), name='orders')],axis=0)"
   ]
  },
  {
   "cell_type": "code",
   "execution_count": 43,
   "metadata": {},
   "outputs": [
    {
     "name": "stdout",
     "output_type": "stream",
     "text": [
      "0.011\n",
      "16.0%\n"
     ]
    }
   ],
   "source": [
    "# aplicare la prueba de Mann-Whitney a las muestras, redondeamos a tres decimales\n",
    "# usaremos alfa=0.05\n",
    "print(\"{0:.3f}\".format(st.mannwhitneyu(sample_a, sample_b)[1]))\n",
    "print(\"{0:.1%}\".format(sample_b.mean() / sample_a.mean()-1))"
   ]
  },
  {
   "cell_type": "code",
   "execution_count": 44,
   "metadata": {},
   "outputs": [
    {
     "name": "stdout",
     "output_type": "stream",
     "text": [
      "p-value:  0.011018084110014696\n",
      "Hipótesis nula rechazada: la diferencia es estadísticamente significativa\n"
     ]
    }
   ],
   "source": [
    "alpha = .05\n",
    "\n",
    "results = st.mannwhitneyu(sample_a, sample_b)\n",
    "\n",
    "print('p-value: ', results.pvalue)\n",
    "\n",
    "if (results.pvalue < alpha):\n",
    "    print(\"Hipótesis nula rechazada: la diferencia es estadísticamente significativa\")\n",
    "else:\n",
    "    print(\"No se pudo rechazar la hipótesis nula: no podemos sacar conclusiones sobre la diferencia\") \n"
   ]
  },
  {
   "cell_type": "markdown",
   "metadata": {},
   "source": [
    "**Conclusión intermedia.**\n",
    "- según los datos sin procesar, no hay diferencia entre los grupos A y B, por lo que no hay motivo para rechazar la hipótesis nula y concluir que el monto promedio de los pedidos difiere entre los grupos.\n",
    "- El p-value= 0.937 es mayor al alfa, entonces no podemos rechazar la hipótesis nula ya que no hay diferencia estadísticamente significativa entre los grupos.\n",
    "- La diferencia entre los segmentos es casi del 28% a favor del grupo 'B'"
   ]
  },
  {
   "cell_type": "markdown",
   "metadata": {},
   "source": [
    "### Significancia estadística de la diferencia en promedio de pedidos entre los grupos utilizando los datos en bruto<a id='sep'></a>"
   ]
  },
  {
   "cell_type": "code",
   "execution_count": 45,
   "metadata": {},
   "outputs": [],
   "source": [
    "# creamos un set de datos para el monto de los pedidos en el grupo 'A'\n",
    "orders_rev_a = orders_ab[orders_ab['group']=='A']['revenue']\n",
    "\n",
    "# creamos un set de datos para el monto de los pedidos en el grupo 'B'\n",
    "orders_rev_b = orders_ab[orders_ab['group']=='B']['revenue']"
   ]
  },
  {
   "cell_type": "markdown",
   "metadata": {},
   "source": [
    "- Probaremos la hipótesis nula:\n",
    "    - H0: Las medias de los montos de las compras en los grupos A y B son iguales\n",
    "    - Ha: Las medias de los montos de las compras en los grupos A y B no son iguales"
   ]
  },
  {
   "cell_type": "code",
   "execution_count": 46,
   "metadata": {},
   "outputs": [
    {
     "name": "stdout",
     "output_type": "stream",
     "text": [
      "0.862\n",
      "27.8%\n"
     ]
    }
   ],
   "source": [
    "# aplicare la prueba de Mann-Whitney a las muestras, redondeamos a tres decimales\n",
    "# usaremos alfa=0.05\n",
    "print(\"{0:.3f}\".format(st.mannwhitneyu(orders_rev_a, orders_rev_b)[1]))\n",
    "print(\"{0:.1%}\".format(orders_rev_b.mean() / orders_rev_a.mean()-1))"
   ]
  },
  {
   "cell_type": "code",
   "execution_count": 47,
   "metadata": {},
   "outputs": [
    {
     "name": "stdout",
     "output_type": "stream",
     "text": [
      "p-value:  0.8622329690015668\n",
      "No se pudo rechazar la hipótesis nula: no podemos sacar conclusiones sobre la diferencia\n"
     ]
    }
   ],
   "source": [
    "alpha = .05\n",
    "\n",
    "results = st.mannwhitneyu(orders_rev_a, orders_rev_b)\n",
    "\n",
    "print('p-value: ', results.pvalue)\n",
    "\n",
    "if (results.pvalue < alpha):\n",
    "    print(\"Hipótesis nula rechazada: la diferencia es estadísticamente significativa\")\n",
    "else:\n",
    "    print(\"No se pudo rechazar la hipótesis nula: no podemos sacar conclusiones sobre la diferencia\") "
   ]
  },
  {
   "cell_type": "markdown",
   "metadata": {},
   "source": [
    "**conclusión intermedia**\n",
    "- según los datos sin procesar, no hay diferencia entre los grupos A y B, por lo que no hay motivo para rechazar la hipótesis nula y concluir que el monto promedio de los pedidos difiere entre los grupos.\n",
    "- El p-value = 0.862 es mayor al alfa = 0.05, entonces no podemos rechazar la hipótesis nula ya que no hay diferencia estadísticamente significativa entre los grupos.\n",
    "- La diferencia entre los segmentos es casi del 28% a favor del grupo 'B'."
   ]
  },
  {
   "cell_type": "markdown",
   "metadata": {},
   "source": [
    "### Significancia estadística de la diferencia en la conversión entre los grupos utilizando los datos filtrados<a id='sedc'></a>\n"
   ]
  },
  {
   "cell_type": "code",
   "execution_count": 48,
   "metadata": {},
   "outputs": [],
   "source": [
    "# creamos un dataframe con los usuarios que hayan realizado más de dos pedidos en ambos grupos\\n\",\n",
    "users_orders = pd.concat([orders_users_a[orders_users_a['orders'] > 2]['visitorid'],\\\n",
    "                          orders_users_b[orders_users_b['orders'] > 2]['visitorid']], axis = 0)"
   ]
  },
  {
   "cell_type": "code",
   "execution_count": 49,
   "metadata": {},
   "outputs": [],
   "source": [
    "# creamos un dataframe con los usuarios que hayan hecho compras por un monto mayor a $435\n",
    "users_with_orders = orders[orders['revenue'] > 435]['visitorid']"
   ]
  },
  {
   "cell_type": "code",
   "execution_count": 50,
   "metadata": {},
   "outputs": [],
   "source": [
    "# fusionamos para crear una sola lista de los usuarios anómalos\\n\",\n",
    "anormalia_users = pd.concat([users_orders, users_with_orders], axis = 0).drop_duplicates().sort_values()"
   ]
  },
  {
   "cell_type": "code",
   "execution_count": 51,
   "metadata": {},
   "outputs": [
    {
     "data": {
      "text/plain": [
       "(65,)"
      ]
     },
     "execution_count": 51,
     "metadata": {},
     "output_type": "execute_result"
    }
   ],
   "source": [
    "# obtenemos la cantidad total de usuarios anómalos\n",
    "anormalia_users.shape"
   ]
  },
  {
   "cell_type": "code",
   "execution_count": 52,
   "metadata": {},
   "outputs": [],
   "source": [
    "# creamos la muestra filtrada para el grupo 'A'\n",
    "sample_filt_a = pd.concat([orders_users_a[np.logical_not(orders_users_a['visitorid'].isin(anormalia_users))]['orders'],\\\n",
    "                           pd.Series(0, index=np.arange(visits[visits['group']=='A']['visits'].sum()\\\n",
    "                                                        - len(orders_users_a['orders'])), name='orders')], axis=0)"
   ]
  },
  {
   "cell_type": "code",
   "execution_count": 53,
   "metadata": {},
   "outputs": [],
   "source": [
    "# creamos la muestra filtrada para el grupo 'B'\n",
    "sample_filt_b = pd.concat([orders_users_b[np.logical_not(orders_users_b['visitorid'].isin(anormalia_users))]['orders'],\\\n",
    "                           pd.Series(0, index=np.arange(visits[visits['group']=='B']['visits'].sum()\\\n",
    "                                                        - len(orders_users_b['orders'])), name='orders')], axis=0)"
   ]
  },
  {
   "cell_type": "markdown",
   "metadata": {},
   "source": [
    "- Probaremos la hipótesis nula:\n",
    "    - H0: Las medias de la cantidad de compras en los grupos A y B son iguales\n",
    "    - Ha: Las medias de la cantidad de compras en los grupos A y B no son iguales"
   ]
  },
  {
   "cell_type": "code",
   "execution_count": 54,
   "metadata": {},
   "outputs": [
    {
     "name": "stdout",
     "output_type": "stream",
     "text": [
      "0.010\n",
      "18.6%\n"
     ]
    }
   ],
   "source": [
    "# aplicare la prueba de Mann-Whitney a las muestras, redondeamos a tres decimales\n",
    "# usaremos alfa=0.05\n",
    "print(\"{0:.3f}\".format(st.mannwhitneyu(sample_filt_a, sample_filt_b)[1]))\n",
    "print(\"{0:.1%}\".format(sample_filt_b.mean() / sample_filt_a.mean()-1))"
   ]
  },
  {
   "cell_type": "code",
   "execution_count": 55,
   "metadata": {},
   "outputs": [
    {
     "name": "stdout",
     "output_type": "stream",
     "text": [
      "p-value:  0.010342947401360054\n",
      "Hipótesis nula rechazada: la diferencia es estadísticamente significativa\n"
     ]
    }
   ],
   "source": [
    "alpha = .05\n",
    "\n",
    "results = st.mannwhitneyu(sample_filt_a, sample_filt_b)\n",
    "\n",
    "print('p-value: ', results.pvalue)\n",
    "\n",
    "if (results.pvalue < alpha):\n",
    "    print(\"Hipótesis nula rechazada: la diferencia es estadísticamente significativa\")\n",
    "else:\n",
    "    print(\"No se pudo rechazar la hipótesis nula: no podemos sacar conclusiones sobre la diferencia\") "
   ]
  },
  {
   "cell_type": "markdown",
   "metadata": {},
   "source": [
    "**conclusion intermedia** \n",
    "- según los datos filtrados, hay diferencia entre los grupos A y B, por lo que podemos rechazar la hipótesis nula y concluir que la cantidad promedio de compras difiere entre los grupos.\n",
    "- El p-value = 0.010 es menor al alfa = 0.05, entonces podemos rechazar la hipótesis nula ya que al parecer hay diferencia estadísticamente significativa entre los grupos.\n",
    "- La diferencia entre los segmentos es casi del 19% a favor del grupo 'B'."
   ]
  },
  {
   "cell_type": "markdown",
   "metadata": {},
   "source": [
    "### Significancia estadística de la diferencia en el promedio de pedido entre los grupos utilizando los datos filtrados<a id='sedpp'></a>"
   ]
  },
  {
   "cell_type": "code",
   "execution_count": 56,
   "metadata": {},
   "outputs": [],
   "source": [
    "# creamos el dataframe filtrado para el grupo 'A'\n",
    "orders_rev_filt_a = orders_ab[np.logical_and(orders_ab['group']=='A',\\\n",
    "                                             np.logical_not(orders_ab['visitorid'].isin(anormalia_users)))]['revenue']"
   ]
  },
  {
   "cell_type": "code",
   "execution_count": 57,
   "metadata": {},
   "outputs": [],
   "source": [
    "# creamos el dataframe filtrado para el grupo 'B'\n",
    "orders_rev_filt_b = orders_ab[np.logical_and(orders_ab['group']=='B',\\\n",
    "                                             np.logical_not(orders_ab['visitorid'].isin(anormalia_users)))]['revenue']"
   ]
  },
  {
   "cell_type": "markdown",
   "metadata": {},
   "source": [
    "- Probaremos la hipótesis nula:\n",
    "    - H0: Las medias de los montos de las compras en los grupos A y B son iguales\n",
    "    - HA: Las medias de los montos de las compras en los grupos A y B no son iguales"
   ]
  },
  {
   "cell_type": "code",
   "execution_count": 58,
   "metadata": {},
   "outputs": [
    {
     "name": "stdout",
     "output_type": "stream",
     "text": [
      "0.758\n",
      "-3.1%\n"
     ]
    }
   ],
   "source": [
    "# aplicare la prueba de Mann-Whitney a l:as muestras, redondeamos a tres decimales\n",
    "# usaremos alfa=0.05\n",
    "print(\"{0:.3f}\".format(st.mannwhitneyu(orders_rev_filt_a, orders_rev_filt_b)[1]))\n",
    "print(\"{0:.1%}\".format(orders_rev_filt_b.mean() / orders_rev_filt_a.mean()-1))"
   ]
  },
  {
   "cell_type": "code",
   "execution_count": 59,
   "metadata": {},
   "outputs": [
    {
     "name": "stdout",
     "output_type": "stream",
     "text": [
      "p-value:  0.7581450424941646\n",
      "No se pudo rechazar la hipótesis nula: no podemos sacar conclusiones sobre la diferencia\n"
     ]
    }
   ],
   "source": [
    "alpha = .05\n",
    "\n",
    "results = st.mannwhitneyu(orders_rev_filt_a, orders_rev_filt_b)\n",
    "\n",
    "print('p-value: ', results.pvalue)\n",
    "\n",
    "if (results.pvalue < alpha):\n",
    "    print(\"Hipótesis nula rechazada: la diferencia es estadísticamente significativa\")\n",
    "else:\n",
    "    print(\"No se pudo rechazar la hipótesis nula: no podemos sacar conclusiones sobre la diferencia\") "
   ]
  },
  {
   "cell_type": "markdown",
   "metadata": {},
   "source": [
    "**Conclusión intermedia**\n",
    "- según los datos filtrados, no hay diferencia entre los grupos A y B, por lo que no hay motivo para rechazar la hipótesis nula y concluir que el monto promedio de los pedidos difiere entre los grupos.\n",
    "- El p-value = 0.758 es mayor al alfa = 0.05, entonces no podemos rechazar la hipótesis nula ya que no hay diferencia estadísticamente significativa entre los grupos.\n",
    "- La diferencia entre los segmentos pasó de casi 28% a favor del grupo 'B' al 3% a favor del grupo 'A'."
   ]
  },
  {
   "cell_type": "markdown",
   "metadata": {},
   "source": [
    "## Conclusiones:<a id='cc'></a>\n",
    "- Hasta el momento, los análisis realizados han mostrado diferencias significativas entre los grupos para la cantidad promedio de compras realizadas.\n",
    "- El grupo 'B' muestra mejor desempeño que el grupo 'A', con un 19% a favor del grupo 'B'.\n",
    "- Observando el gráfico de tasa de conversión acumulada por grupo, podemos notar que aún no se estabilizan esas tasas de conversión por lo que, se recomienda continuar la prueba y seguir monitoreando las tasas de conversión."
   ]
  },
  {
   "cell_type": "code",
   "execution_count": null,
   "metadata": {},
   "outputs": [],
   "source": []
  }
 ],
 "metadata": {
  "kernelspec": {
   "display_name": "Python 3 (ipykernel)",
   "language": "python",
   "name": "python3"
  },
  "language_info": {
   "codemirror_mode": {
    "name": "ipython",
    "version": 3
   },
   "file_extension": ".py",
   "mimetype": "text/x-python",
   "name": "python",
   "nbconvert_exporter": "python",
   "pygments_lexer": "ipython3",
   "version": "3.9.5"
  },
  "toc": {
   "base_numbering": 1,
   "nav_menu": {},
   "number_sections": true,
   "sideBar": true,
   "skip_h1_title": true,
   "title_cell": "Table of Contents",
   "title_sidebar": "Contents",
   "toc_cell": false,
   "toc_position": {},
   "toc_section_display": true,
   "toc_window_display": false
  }
 },
 "nbformat": 4,
 "nbformat_minor": 2
}
